{
 "cells": [
  {
   "cell_type": "code",
   "execution_count": 1,
   "id": "0678062d",
   "metadata": {
    "_cell_guid": "b1076dfc-b9ad-4769-8c92-a6c4dae69d19",
    "_uuid": "8f2839f25d086af736a60e9eeb907d3b93b6e0e5",
    "execution": {
     "iopub.execute_input": "2022-02-24T04:47:43.927763Z",
     "iopub.status.busy": "2022-02-24T04:47:43.927148Z",
     "iopub.status.idle": "2022-02-24T04:47:43.937880Z",
     "shell.execute_reply": "2022-02-24T04:47:43.938356Z",
     "shell.execute_reply.started": "2022-02-24T04:38:47.177823Z"
    },
    "papermill": {
     "duration": 0.100959,
     "end_time": "2022-02-24T04:47:43.938598",
     "exception": false,
     "start_time": "2022-02-24T04:47:43.837639",
     "status": "completed"
    },
    "tags": []
   },
   "outputs": [
    {
     "name": "stdout",
     "output_type": "stream",
     "text": [
      "/kaggle/input/gpt2writedata/data.json\n",
      "/kaggle/input/gpt2writedata/train.json\n",
      "/kaggle/input/gpt2writedata/train_clear.txt\n",
      "/kaggle/input/gpt2writedata/train.txt\n",
      "/kaggle/input/gpt2writedata/article.db\n",
      "/kaggle/input/gpt2writedata/train_clear_web_mini.txt\n"
     ]
    }
   ],
   "source": [
    "# This Python 3 environment comes with many helpful analytics libraries installed\n",
    "# It is defined by the kaggle/python Docker image: https://github.com/kaggle/docker-python\n",
    "# For example, here's several helpful packages to load\n",
    "\n",
    "import numpy as np # linear algebra\n",
    "import pandas as pd # data processing, CSV file I/O (e.g. pd.read_csv)\n",
    "\n",
    "# Input data files are available in the read-only \"../input/\" directory\n",
    "# For example, running this (by clicking run or pressing Shift+Enter) will list all files under the input directory\n",
    "\n",
    "import os\n",
    "for dirname, _, filenames in os.walk('/kaggle/input'):\n",
    "    for filename in filenames:\n",
    "        print(os.path.join(dirname, filename))\n",
    "\n",
    "# You can write up to 20GB to the current directory (/kaggle/working/) that gets preserved as output when you create a version using \"Save & Run All\" \n",
    "# You can also write temporary files to /kaggle/temp/, but they won't be saved outside of the current session"
   ]
  },
  {
   "cell_type": "markdown",
   "id": "5d7b01ad",
   "metadata": {
    "papermill": {
     "duration": 0.008784,
     "end_time": "2022-02-24T04:47:43.958820",
     "exception": false,
     "start_time": "2022-02-24T04:47:43.950036",
     "status": "completed"
    },
    "tags": []
   },
   "source": [
    "# 预处理数据"
   ]
  },
  {
   "cell_type": "code",
   "execution_count": 2,
   "id": "162aad9e",
   "metadata": {
    "execution": {
     "iopub.execute_input": "2022-02-24T04:47:43.983870Z",
     "iopub.status.busy": "2022-02-24T04:47:43.983264Z",
     "iopub.status.idle": "2022-02-24T04:47:47.062230Z",
     "shell.execute_reply": "2022-02-24T04:47:47.061696Z",
     "shell.execute_reply.started": "2022-02-24T04:38:47.286378Z"
    },
    "papermill": {
     "duration": 3.094516,
     "end_time": "2022-02-24T04:47:47.062374",
     "exception": false,
     "start_time": "2022-02-24T04:47:43.967858",
     "status": "completed"
    },
    "tags": []
   },
   "outputs": [
    {
     "name": "stdout",
     "output_type": "stream",
     "text": [
      "Cloning into 'reformer-chinese-pytorch'...\r\n",
      "remote: Enumerating objects: 66, done.\u001b[K\r\n",
      "remote: Counting objects: 100% (66/66), done.\u001b[K\r\n",
      "remote: Compressing objects: 100% (46/46), done.\u001b[K\r\n",
      "remote: Total 66 (delta 38), reused 42 (delta 20), pack-reused 0\u001b[K\r\n",
      "Unpacking objects: 100% (66/66), done.\r\n",
      "/kaggle/working/reformer-chinese-pytorch\n"
     ]
    }
   ],
   "source": [
    "!git clone https://github.com/napoler/reformer-chinese-pytorch\n",
    "%cd reformer-chinese-pytorch\n",
    "!mkdir data\n",
    "!head -n 1200 /kaggle/input/gpt2writedata/train_clear_web_mini.txt > ./data/data.txt"
   ]
  },
  {
   "cell_type": "code",
   "execution_count": 3,
   "id": "c9268e47",
   "metadata": {
    "execution": {
     "iopub.execute_input": "2022-02-24T04:47:47.088549Z",
     "iopub.status.busy": "2022-02-24T04:47:47.087830Z",
     "iopub.status.idle": "2022-02-24T04:48:00.047703Z",
     "shell.execute_reply": "2022-02-24T04:48:00.047223Z"
    },
    "papermill": {
     "duration": 12.974651,
     "end_time": "2022-02-24T04:48:00.047834",
     "exception": false,
     "start_time": "2022-02-24T04:47:47.073183",
     "status": "completed"
    },
    "tags": []
   },
   "outputs": [
    {
     "name": "stdout",
     "output_type": "stream",
     "text": [
      "Downloading: 100%|████████████████████████████| 110k/110k [00:00<00:00, 660kB/s]\r\n",
      "Downloading: 100%|███████████████████████████| 29.0/29.0 [00:00<00:00, 21.2kB/s]\r\n",
      "Downloading: 100%|███████████████████████████| 269k/269k [00:00<00:00, 1.06MB/s]\r\n",
      "1200it [00:00, 351330.78it/s]\r\n"
     ]
    }
   ],
   "source": [
    "!python bulidData.py"
   ]
  },
  {
   "cell_type": "code",
   "execution_count": 4,
   "id": "a993621e",
   "metadata": {
    "execution": {
     "iopub.execute_input": "2022-02-24T04:48:00.076362Z",
     "iopub.status.busy": "2022-02-24T04:48:00.075643Z",
     "iopub.status.idle": "2022-02-24T04:48:00.077640Z",
     "shell.execute_reply": "2022-02-24T04:48:00.078056Z",
     "shell.execute_reply.started": "2022-02-24T04:38:50.160039Z"
    },
    "papermill": {
     "duration": 0.018023,
     "end_time": "2022-02-24T04:48:00.078193",
     "exception": false,
     "start_time": "2022-02-24T04:48:00.060170",
     "status": "completed"
    },
    "tags": []
   },
   "outputs": [],
   "source": [
    "# !head -n 1000 /kaggle/input/gpt2writedata/train_clear_web_mini.txt >test.txt"
   ]
  },
  {
   "cell_type": "markdown",
   "id": "364aac3c",
   "metadata": {
    "papermill": {
     "duration": 0.011752,
     "end_time": "2022-02-24T04:48:00.101663",
     "exception": false,
     "start_time": "2022-02-24T04:48:00.089911",
     "status": "completed"
    },
    "tags": []
   },
   "source": [
    "# 安装依赖"
   ]
  },
  {
   "cell_type": "code",
   "execution_count": 5,
   "id": "11a24842",
   "metadata": {
    "execution": {
     "iopub.execute_input": "2022-02-24T04:48:00.138533Z",
     "iopub.status.busy": "2022-02-24T04:48:00.133357Z",
     "iopub.status.idle": "2022-02-24T04:49:00.361271Z",
     "shell.execute_reply": "2022-02-24T04:49:00.360775Z",
     "shell.execute_reply.started": "2022-02-24T04:38:50.173063Z"
    },
    "papermill": {
     "duration": 60.247907,
     "end_time": "2022-02-24T04:49:00.361416",
     "exception": false,
     "start_time": "2022-02-24T04:48:00.113509",
     "status": "completed"
    },
    "tags": []
   },
   "outputs": [
    {
     "name": "stdout",
     "output_type": "stream",
     "text": [
      "Requirement already satisfied: pytorch_lightning in /opt/conda/lib/python3.7/site-packages (1.4.4)\r\n",
      "Requirement already satisfied: typing-extensions in /opt/conda/lib/python3.7/site-packages (from pytorch_lightning) (3.7.4.3)\r\n",
      "Requirement already satisfied: PyYAML>=5.1 in /opt/conda/lib/python3.7/site-packages (from pytorch_lightning) (5.4.1)\r\n",
      "Requirement already satisfied: tensorboard>=2.2.0 in /opt/conda/lib/python3.7/site-packages (from pytorch_lightning) (2.6.0)\r\n",
      "Requirement already satisfied: future>=0.17.1 in /opt/conda/lib/python3.7/site-packages (from pytorch_lightning) (0.18.2)\r\n",
      "Requirement already satisfied: packaging>=17.0 in /opt/conda/lib/python3.7/site-packages (from pytorch_lightning) (21.0)\r\n",
      "Requirement already satisfied: tqdm>=4.41.0 in /opt/conda/lib/python3.7/site-packages (from pytorch_lightning) (4.62.1)\r\n",
      "Requirement already satisfied: numpy>=1.17.2 in /opt/conda/lib/python3.7/site-packages (from pytorch_lightning) (1.19.5)\r\n",
      "Requirement already satisfied: torchmetrics>=0.4.0 in /opt/conda/lib/python3.7/site-packages (from pytorch_lightning) (0.5.0)\r\n",
      "Requirement already satisfied: fsspec[http]!=2021.06.0,>=2021.05.0 in /opt/conda/lib/python3.7/site-packages (from pytorch_lightning) (2021.8.1)\r\n",
      "Requirement already satisfied: torch>=1.6 in /opt/conda/lib/python3.7/site-packages (from pytorch_lightning) (1.7.1+cu110)\r\n",
      "Requirement already satisfied: pyDeprecate==0.3.1 in /opt/conda/lib/python3.7/site-packages (from pytorch_lightning) (0.3.1)\r\n",
      "Requirement already satisfied: aiohttp in /opt/conda/lib/python3.7/site-packages (from fsspec[http]!=2021.06.0,>=2021.05.0->pytorch_lightning) (3.7.4.post0)\r\n",
      "Requirement already satisfied: requests in /opt/conda/lib/python3.7/site-packages (from fsspec[http]!=2021.06.0,>=2021.05.0->pytorch_lightning) (2.25.1)\r\n",
      "Requirement already satisfied: pyparsing>=2.0.2 in /opt/conda/lib/python3.7/site-packages (from packaging>=17.0->pytorch_lightning) (2.4.7)\r\n",
      "Requirement already satisfied: google-auth<2,>=1.6.3 in /opt/conda/lib/python3.7/site-packages (from tensorboard>=2.2.0->pytorch_lightning) (1.34.0)\r\n",
      "Requirement already satisfied: tensorboard-data-server<0.7.0,>=0.6.0 in /opt/conda/lib/python3.7/site-packages (from tensorboard>=2.2.0->pytorch_lightning) (0.6.1)\r\n",
      "Requirement already satisfied: grpcio>=1.24.3 in /opt/conda/lib/python3.7/site-packages (from tensorboard>=2.2.0->pytorch_lightning) (1.32.0)\r\n",
      "Requirement already satisfied: wheel>=0.26 in /opt/conda/lib/python3.7/site-packages (from tensorboard>=2.2.0->pytorch_lightning) (0.37.0)\r\n",
      "Requirement already satisfied: google-auth-oauthlib<0.5,>=0.4.1 in /opt/conda/lib/python3.7/site-packages (from tensorboard>=2.2.0->pytorch_lightning) (0.4.5)\r\n",
      "Requirement already satisfied: setuptools>=41.0.0 in /opt/conda/lib/python3.7/site-packages (from tensorboard>=2.2.0->pytorch_lightning) (57.4.0)\r\n",
      "Requirement already satisfied: tensorboard-plugin-wit>=1.6.0 in /opt/conda/lib/python3.7/site-packages (from tensorboard>=2.2.0->pytorch_lightning) (1.8.0)\r\n",
      "Requirement already satisfied: protobuf>=3.6.0 in /opt/conda/lib/python3.7/site-packages (from tensorboard>=2.2.0->pytorch_lightning) (3.18.0)\r\n",
      "Requirement already satisfied: absl-py>=0.4 in /opt/conda/lib/python3.7/site-packages (from tensorboard>=2.2.0->pytorch_lightning) (0.12.0)\r\n",
      "Requirement already satisfied: werkzeug>=0.11.15 in /opt/conda/lib/python3.7/site-packages (from tensorboard>=2.2.0->pytorch_lightning) (2.0.1)\r\n",
      "Requirement already satisfied: markdown>=2.6.8 in /opt/conda/lib/python3.7/site-packages (from tensorboard>=2.2.0->pytorch_lightning) (3.3.4)\r\n",
      "Requirement already satisfied: six in /opt/conda/lib/python3.7/site-packages (from absl-py>=0.4->tensorboard>=2.2.0->pytorch_lightning) (1.15.0)\r\n",
      "Requirement already satisfied: rsa<5,>=3.1.4 in /opt/conda/lib/python3.7/site-packages (from google-auth<2,>=1.6.3->tensorboard>=2.2.0->pytorch_lightning) (4.7.2)\r\n",
      "Requirement already satisfied: cachetools<5.0,>=2.0.0 in /opt/conda/lib/python3.7/site-packages (from google-auth<2,>=1.6.3->tensorboard>=2.2.0->pytorch_lightning) (4.2.2)\r\n",
      "Requirement already satisfied: pyasn1-modules>=0.2.1 in /opt/conda/lib/python3.7/site-packages (from google-auth<2,>=1.6.3->tensorboard>=2.2.0->pytorch_lightning) (0.2.7)\r\n",
      "Requirement already satisfied: requests-oauthlib>=0.7.0 in /opt/conda/lib/python3.7/site-packages (from google-auth-oauthlib<0.5,>=0.4.1->tensorboard>=2.2.0->pytorch_lightning) (1.3.0)\r\n",
      "Requirement already satisfied: importlib-metadata in /opt/conda/lib/python3.7/site-packages (from markdown>=2.6.8->tensorboard>=2.2.0->pytorch_lightning) (3.4.0)\r\n",
      "Requirement already satisfied: pyasn1<0.5.0,>=0.4.6 in /opt/conda/lib/python3.7/site-packages (from pyasn1-modules>=0.2.1->google-auth<2,>=1.6.3->tensorboard>=2.2.0->pytorch_lightning) (0.4.8)\r\n",
      "Requirement already satisfied: certifi>=2017.4.17 in /opt/conda/lib/python3.7/site-packages (from requests->fsspec[http]!=2021.06.0,>=2021.05.0->pytorch_lightning) (2021.5.30)\r\n",
      "Requirement already satisfied: urllib3<1.27,>=1.21.1 in /opt/conda/lib/python3.7/site-packages (from requests->fsspec[http]!=2021.06.0,>=2021.05.0->pytorch_lightning) (1.26.6)\r\n",
      "Requirement already satisfied: idna<3,>=2.5 in /opt/conda/lib/python3.7/site-packages (from requests->fsspec[http]!=2021.06.0,>=2021.05.0->pytorch_lightning) (2.10)\r\n",
      "Requirement already satisfied: chardet<5,>=3.0.2 in /opt/conda/lib/python3.7/site-packages (from requests->fsspec[http]!=2021.06.0,>=2021.05.0->pytorch_lightning) (4.0.0)\r\n",
      "Requirement already satisfied: oauthlib>=3.0.0 in /opt/conda/lib/python3.7/site-packages (from requests-oauthlib>=0.7.0->google-auth-oauthlib<0.5,>=0.4.1->tensorboard>=2.2.0->pytorch_lightning) (3.1.1)\r\n",
      "Requirement already satisfied: async-timeout<4.0,>=3.0 in /opt/conda/lib/python3.7/site-packages (from aiohttp->fsspec[http]!=2021.06.0,>=2021.05.0->pytorch_lightning) (3.0.1)\r\n",
      "Requirement already satisfied: attrs>=17.3.0 in /opt/conda/lib/python3.7/site-packages (from aiohttp->fsspec[http]!=2021.06.0,>=2021.05.0->pytorch_lightning) (21.2.0)\r\n",
      "Requirement already satisfied: multidict<7.0,>=4.5 in /opt/conda/lib/python3.7/site-packages (from aiohttp->fsspec[http]!=2021.06.0,>=2021.05.0->pytorch_lightning) (5.1.0)\r\n",
      "Requirement already satisfied: yarl<2.0,>=1.0 in /opt/conda/lib/python3.7/site-packages (from aiohttp->fsspec[http]!=2021.06.0,>=2021.05.0->pytorch_lightning) (1.6.3)\r\n",
      "Requirement already satisfied: zipp>=0.5 in /opt/conda/lib/python3.7/site-packages (from importlib-metadata->markdown>=2.6.8->tensorboard>=2.2.0->pytorch_lightning) (3.5.0)\r\n",
      "\u001b[33mWARNING: Running pip as the 'root' user can result in broken permissions and conflicting behaviour with the system package manager. It is recommended to use a virtual environment instead: https://pip.pypa.io/warnings/venv\u001b[0m\r\n",
      "\u001b[33mWARNING: Running pip as the 'root' user can result in broken permissions and conflicting behaviour with the system package manager. It is recommended to use a virtual environment instead: https://pip.pypa.io/warnings/venv\u001b[0m\r\n",
      "Collecting tkitJson\r\n",
      "  Downloading tkitJson-0.0.0.3.tar.gz (2.6 kB)\r\n",
      "Building wheels for collected packages: tkitJson\r\n",
      "  Building wheel for tkitJson (setup.py) ... \u001b[?25l-\b \b\\\b \bdone\r\n",
      "\u001b[?25h  Created wheel for tkitJson: filename=tkitJson-0.0.0.3-py3-none-any.whl size=2696 sha256=645422c68639f4ebc9c16989450051c6f517f0e8e4335e80dc6cb8a07f0bb534\r\n",
      "  Stored in directory: /root/.cache/pip/wheels/16/e9/fb/69e56e98874a965c5d16b29d23a2702ba31364150087221a3c\r\n",
      "Successfully built tkitJson\r\n",
      "Installing collected packages: tkitJson\r\n",
      "Successfully installed tkitJson-0.0.0.3\r\n",
      "\u001b[33mWARNING: Running pip as the 'root' user can result in broken permissions and conflicting behaviour with the system package manager. It is recommended to use a virtual environment instead: https://pip.pypa.io/warnings/venv\u001b[0m\r\n",
      "Collecting jsonargparse[signatures]\r\n",
      "  Downloading jsonargparse-4.3.0-py3-none-any.whl (127 kB)\r\n",
      "\u001b[K     |████████████████████████████████| 127 kB 515 kB/s \r\n",
      "\u001b[?25hRequirement already satisfied: PyYAML>=3.13 in /opt/conda/lib/python3.7/site-packages (from jsonargparse[signatures]) (5.4.1)\r\n",
      "Collecting docstring-parser>=0.7.3\r\n",
      "  Downloading docstring_parser-0.13.tar.gz (23 kB)\r\n",
      "  Installing build dependencies ... \u001b[?25l-\b \b\\\b \b|\b \b/\b \b-\b \bdone\r\n",
      "\u001b[?25h  Getting requirements to build wheel ... \u001b[?25l-\b \b\\\b \bdone\r\n",
      "\u001b[?25h    Preparing wheel metadata ... \u001b[?25l-\b \b\\\b \bdone\r\n",
      "\u001b[?25hBuilding wheels for collected packages: docstring-parser\r\n",
      "  Building wheel for docstring-parser (PEP 517) ... \u001b[?25l-\b \b\\\b \b|\b \b/\b \bdone\r\n",
      "\u001b[?25h  Created wheel for docstring-parser: filename=docstring_parser-0.13-py3-none-any.whl size=31866 sha256=03a85418d0c0be3b233465b24dd0835979370295c25e1f2b59b50033d4034ba9\r\n",
      "  Stored in directory: /root/.cache/pip/wheels/bd/88/3c/d1aa049309f7945178cac9fbe6561a86424f432da57c18ca0f\r\n",
      "Successfully built docstring-parser\r\n",
      "Installing collected packages: jsonargparse, docstring-parser\r\n",
      "Successfully installed docstring-parser-0.13 jsonargparse-4.3.0\r\n",
      "\u001b[33mWARNING: Running pip as the 'root' user can result in broken permissions and conflicting behaviour with the system package manager. It is recommended to use a virtual environment instead: https://pip.pypa.io/warnings/venv\u001b[0m\r\n",
      "Requirement already satisfied: transformers in /opt/conda/lib/python3.7/site-packages (4.5.1)\r\n",
      "Collecting reformer_pytorch==1.4.3\r\n",
      "  Downloading reformer_pytorch-1.4.3-py3-none-any.whl (16 kB)\r\n",
      "Collecting pytorch_lightning==1.4.8\r\n",
      "  Downloading pytorch_lightning-1.4.8-py3-none-any.whl (924 kB)\r\n",
      "\u001b[K     |████████████████████████████████| 924 kB 511 kB/s \r\n",
      "\u001b[?25hCollecting tqdm==4.62.3\r\n",
      "  Downloading tqdm-4.62.3-py2.py3-none-any.whl (76 kB)\r\n",
      "\u001b[K     |████████████████████████████████| 76 kB 3.7 MB/s \r\n",
      "\u001b[?25hCollecting tkitLr==0.0.0.216325705\r\n",
      "  Downloading tkitLr-0.0.0.216325705-py2.py3-none-any.whl (7.5 kB)\r\n",
      "Collecting local-attention\r\n",
      "  Downloading local_attention-1.4.3-py3-none-any.whl (5.0 kB)\r\n",
      "Collecting product-key-memory\r\n",
      "  Downloading product_key_memory-0.1.10.tar.gz (3.5 kB)\r\n",
      "Collecting einops\r\n",
      "  Downloading einops-0.4.0-py3-none-any.whl (28 kB)\r\n",
      "Requirement already satisfied: torch in /opt/conda/lib/python3.7/site-packages (from reformer_pytorch==1.4.3) (1.7.1+cu110)\r\n",
      "Collecting axial-positional-embedding>=0.1.0\r\n",
      "  Downloading axial_positional_embedding-0.2.1.tar.gz (2.6 kB)\r\n",
      "Requirement already satisfied: tensorboard>=2.2.0 in /opt/conda/lib/python3.7/site-packages (from pytorch_lightning==1.4.8) (2.6.0)\r\n",
      "Requirement already satisfied: numpy>=1.17.2 in /opt/conda/lib/python3.7/site-packages (from pytorch_lightning==1.4.8) (1.19.5)\r\n",
      "Requirement already satisfied: torchmetrics>=0.4.0 in /opt/conda/lib/python3.7/site-packages (from pytorch_lightning==1.4.8) (0.5.0)\r\n",
      "Requirement already satisfied: typing-extensions in /opt/conda/lib/python3.7/site-packages (from pytorch_lightning==1.4.8) (3.7.4.3)\r\n",
      "Requirement already satisfied: pyDeprecate==0.3.1 in /opt/conda/lib/python3.7/site-packages (from pytorch_lightning==1.4.8) (0.3.1)\r\n",
      "Requirement already satisfied: future>=0.17.1 in /opt/conda/lib/python3.7/site-packages (from pytorch_lightning==1.4.8) (0.18.2)\r\n",
      "Requirement already satisfied: packaging>=17.0 in /opt/conda/lib/python3.7/site-packages (from pytorch_lightning==1.4.8) (21.0)\r\n",
      "Requirement already satisfied: PyYAML>=5.1 in /opt/conda/lib/python3.7/site-packages (from pytorch_lightning==1.4.8) (5.4.1)\r\n",
      "Requirement already satisfied: fsspec[http]!=2021.06.0,>=2021.05.0 in /opt/conda/lib/python3.7/site-packages (from pytorch_lightning==1.4.8) (2021.8.1)\r\n",
      "Requirement already satisfied: sacremoses in /opt/conda/lib/python3.7/site-packages (from transformers) (0.0.45)\r\n",
      "Requirement already satisfied: importlib-metadata in /opt/conda/lib/python3.7/site-packages (from transformers) (3.4.0)\r\n",
      "Requirement already satisfied: regex!=2019.12.17 in /opt/conda/lib/python3.7/site-packages (from transformers) (2021.8.3)\r\n",
      "Requirement already satisfied: tokenizers<0.11,>=0.10.1 in /opt/conda/lib/python3.7/site-packages (from transformers) (0.10.3)\r\n",
      "Requirement already satisfied: filelock in /opt/conda/lib/python3.7/site-packages (from transformers) (3.0.12)\r\n",
      "Requirement already satisfied: requests in /opt/conda/lib/python3.7/site-packages (from transformers) (2.25.1)\r\n",
      "Requirement already satisfied: aiohttp in /opt/conda/lib/python3.7/site-packages (from fsspec[http]!=2021.06.0,>=2021.05.0->pytorch_lightning==1.4.8) (3.7.4.post0)\r\n",
      "Requirement already satisfied: pyparsing>=2.0.2 in /opt/conda/lib/python3.7/site-packages (from packaging>=17.0->pytorch_lightning==1.4.8) (2.4.7)\r\n",
      "Requirement already satisfied: absl-py>=0.4 in /opt/conda/lib/python3.7/site-packages (from tensorboard>=2.2.0->pytorch_lightning==1.4.8) (0.12.0)\r\n",
      "Requirement already satisfied: wheel>=0.26 in /opt/conda/lib/python3.7/site-packages (from tensorboard>=2.2.0->pytorch_lightning==1.4.8) (0.37.0)\r\n",
      "Requirement already satisfied: google-auth-oauthlib<0.5,>=0.4.1 in /opt/conda/lib/python3.7/site-packages (from tensorboard>=2.2.0->pytorch_lightning==1.4.8) (0.4.5)\r\n",
      "Requirement already satisfied: google-auth<2,>=1.6.3 in /opt/conda/lib/python3.7/site-packages (from tensorboard>=2.2.0->pytorch_lightning==1.4.8) (1.34.0)\r\n",
      "Requirement already satisfied: markdown>=2.6.8 in /opt/conda/lib/python3.7/site-packages (from tensorboard>=2.2.0->pytorch_lightning==1.4.8) (3.3.4)\r\n",
      "Requirement already satisfied: werkzeug>=0.11.15 in /opt/conda/lib/python3.7/site-packages (from tensorboard>=2.2.0->pytorch_lightning==1.4.8) (2.0.1)\r\n",
      "Requirement already satisfied: grpcio>=1.24.3 in /opt/conda/lib/python3.7/site-packages (from tensorboard>=2.2.0->pytorch_lightning==1.4.8) (1.32.0)\r\n",
      "Requirement already satisfied: protobuf>=3.6.0 in /opt/conda/lib/python3.7/site-packages (from tensorboard>=2.2.0->pytorch_lightning==1.4.8) (3.18.0)\r\n",
      "Requirement already satisfied: tensorboard-data-server<0.7.0,>=0.6.0 in /opt/conda/lib/python3.7/site-packages (from tensorboard>=2.2.0->pytorch_lightning==1.4.8) (0.6.1)\r\n",
      "Requirement already satisfied: tensorboard-plugin-wit>=1.6.0 in /opt/conda/lib/python3.7/site-packages (from tensorboard>=2.2.0->pytorch_lightning==1.4.8) (1.8.0)\r\n",
      "Requirement already satisfied: setuptools>=41.0.0 in /opt/conda/lib/python3.7/site-packages (from tensorboard>=2.2.0->pytorch_lightning==1.4.8) (57.4.0)\r\n",
      "Requirement already satisfied: six in /opt/conda/lib/python3.7/site-packages (from absl-py>=0.4->tensorboard>=2.2.0->pytorch_lightning==1.4.8) (1.15.0)\r\n",
      "Requirement already satisfied: cachetools<5.0,>=2.0.0 in /opt/conda/lib/python3.7/site-packages (from google-auth<2,>=1.6.3->tensorboard>=2.2.0->pytorch_lightning==1.4.8) (4.2.2)\r\n",
      "Requirement already satisfied: pyasn1-modules>=0.2.1 in /opt/conda/lib/python3.7/site-packages (from google-auth<2,>=1.6.3->tensorboard>=2.2.0->pytorch_lightning==1.4.8) (0.2.7)\r\n",
      "Requirement already satisfied: rsa<5,>=3.1.4 in /opt/conda/lib/python3.7/site-packages (from google-auth<2,>=1.6.3->tensorboard>=2.2.0->pytorch_lightning==1.4.8) (4.7.2)\r\n",
      "Requirement already satisfied: requests-oauthlib>=0.7.0 in /opt/conda/lib/python3.7/site-packages (from google-auth-oauthlib<0.5,>=0.4.1->tensorboard>=2.2.0->pytorch_lightning==1.4.8) (1.3.0)\r\n",
      "Requirement already satisfied: pyasn1<0.5.0,>=0.4.6 in /opt/conda/lib/python3.7/site-packages (from pyasn1-modules>=0.2.1->google-auth<2,>=1.6.3->tensorboard>=2.2.0->pytorch_lightning==1.4.8) (0.4.8)\r\n",
      "Requirement already satisfied: idna<3,>=2.5 in /opt/conda/lib/python3.7/site-packages (from requests->transformers) (2.10)\r\n",
      "Requirement already satisfied: certifi>=2017.4.17 in /opt/conda/lib/python3.7/site-packages (from requests->transformers) (2021.5.30)\r\n",
      "Requirement already satisfied: urllib3<1.27,>=1.21.1 in /opt/conda/lib/python3.7/site-packages (from requests->transformers) (1.26.6)\r\n",
      "Requirement already satisfied: chardet<5,>=3.0.2 in /opt/conda/lib/python3.7/site-packages (from requests->transformers) (4.0.0)\r\n",
      "Requirement already satisfied: oauthlib>=3.0.0 in /opt/conda/lib/python3.7/site-packages (from requests-oauthlib>=0.7.0->google-auth-oauthlib<0.5,>=0.4.1->tensorboard>=2.2.0->pytorch_lightning==1.4.8) (3.1.1)\r\n",
      "Requirement already satisfied: async-timeout<4.0,>=3.0 in /opt/conda/lib/python3.7/site-packages (from aiohttp->fsspec[http]!=2021.06.0,>=2021.05.0->pytorch_lightning==1.4.8) (3.0.1)\r\n",
      "Requirement already satisfied: multidict<7.0,>=4.5 in /opt/conda/lib/python3.7/site-packages (from aiohttp->fsspec[http]!=2021.06.0,>=2021.05.0->pytorch_lightning==1.4.8) (5.1.0)\r\n",
      "Requirement already satisfied: attrs>=17.3.0 in /opt/conda/lib/python3.7/site-packages (from aiohttp->fsspec[http]!=2021.06.0,>=2021.05.0->pytorch_lightning==1.4.8) (21.2.0)\r\n",
      "Requirement already satisfied: yarl<2.0,>=1.0 in /opt/conda/lib/python3.7/site-packages (from aiohttp->fsspec[http]!=2021.06.0,>=2021.05.0->pytorch_lightning==1.4.8) (1.6.3)\r\n",
      "Requirement already satisfied: zipp>=0.5 in /opt/conda/lib/python3.7/site-packages (from importlib-metadata->transformers) (3.5.0)\r\n",
      "Requirement already satisfied: joblib in /opt/conda/lib/python3.7/site-packages (from sacremoses->transformers) (1.0.1)\r\n",
      "Requirement already satisfied: click in /opt/conda/lib/python3.7/site-packages (from sacremoses->transformers) (8.0.1)\r\n",
      "Building wheels for collected packages: axial-positional-embedding, product-key-memory\r\n",
      "  Building wheel for axial-positional-embedding (setup.py) ... \u001b[?25l-\b \bdone\r\n",
      "\u001b[?25h  Created wheel for axial-positional-embedding: filename=axial_positional_embedding-0.2.1-py3-none-any.whl size=2900 sha256=d623bfeed02d547709cc416497a71380150e732e890f25d30510a83fd6c81242\r\n",
      "  Stored in directory: /root/.cache/pip/wheels/4a/2c/c3/9a1cb267c0d0d9b6eeba7952addb32b17857d1f799690c27a8\r\n",
      "  Building wheel for product-key-memory (setup.py) ... \u001b[?25l-\b \b\\\b \bdone\r\n",
      "\u001b[?25h  Created wheel for product-key-memory: filename=product_key_memory-0.1.10-py3-none-any.whl size=3071 sha256=59ad0a64f80c9023b3f0ef0c6434bb4a552b857857d64134f9df87b130757653\r\n",
      "  Stored in directory: /root/.cache/pip/wheels/43/78/51/06648579a50c8e83f24ebfbdfd66462d1b88315a3491deba86\r\n",
      "Successfully built axial-positional-embedding product-key-memory\r\n",
      "Installing collected packages: tqdm, product-key-memory, local-attention, einops, axial-positional-embedding, tkitLr, reformer-pytorch, pytorch-lightning\r\n",
      "  Attempting uninstall: tqdm\r\n",
      "    Found existing installation: tqdm 4.62.1\r\n",
      "    Uninstalling tqdm-4.62.1:\r\n",
      "      Successfully uninstalled tqdm-4.62.1\r\n",
      "  Attempting uninstall: pytorch-lightning\r\n",
      "    Found existing installation: pytorch-lightning 1.4.4\r\n",
      "    Uninstalling pytorch-lightning-1.4.4:\r\n",
      "      Successfully uninstalled pytorch-lightning-1.4.4\r\n",
      "\u001b[31mERROR: pip's dependency resolver does not currently take into account all the packages that are installed. This behaviour is the source of the following dependency conflicts.\r\n",
      "caip-notebooks-serverextension 1.0.0 requires google-cloud-bigquery-storage, which is not installed.\u001b[0m\r\n",
      "Successfully installed axial-positional-embedding-0.2.1 einops-0.4.0 local-attention-1.4.3 product-key-memory-0.1.10 pytorch-lightning-1.4.8 reformer-pytorch-1.4.3 tkitLr-0.0.0.216325705 tqdm-4.62.3\r\n",
      "\u001b[33mWARNING: Running pip as the 'root' user can result in broken permissions and conflicting behaviour with the system package manager. It is recommended to use a virtual environment instead: https://pip.pypa.io/warnings/venv\u001b[0m\r\n"
     ]
    }
   ],
   "source": [
    "# !pip install -r requirements.txt\n",
    "\n",
    "!pip install pytorch_lightning\n",
    "!pip install wandb -q\n",
    "!pip install tkitJson\n",
    "!pip install jsonargparse[signatures]\n",
    "!pip install transformers reformer_pytorch==1.4.3 pytorch_lightning==1.4.8 tqdm==4.62.3 tkitLr==0.0.0.216325705 "
   ]
  },
  {
   "cell_type": "markdown",
   "id": "0aaaff90",
   "metadata": {
    "papermill": {
     "duration": 0.035616,
     "end_time": "2022-02-24T04:49:00.433274",
     "exception": false,
     "start_time": "2022-02-24T04:49:00.397658",
     "status": "completed"
    },
    "tags": []
   },
   "source": [
    "# wandb 设置"
   ]
  },
  {
   "cell_type": "code",
   "execution_count": 6,
   "id": "8b0df9c6",
   "metadata": {
    "execution": {
     "iopub.execute_input": "2022-02-24T04:49:00.511524Z",
     "iopub.status.busy": "2022-02-24T04:49:00.510724Z",
     "iopub.status.idle": "2022-02-24T04:49:00.874268Z",
     "shell.execute_reply": "2022-02-24T04:49:00.874950Z"
    },
    "papermill": {
     "duration": 0.405943,
     "end_time": "2022-02-24T04:49:00.875139",
     "exception": false,
     "start_time": "2022-02-24T04:49:00.469196",
     "status": "completed"
    },
    "tags": []
   },
   "outputs": [],
   "source": [
    "from kaggle_secrets import UserSecretsClient\n",
    "user_secrets = UserSecretsClient()\n",
    "secret_value_0 = user_secrets.get_secret(\"wandb\")\n",
    "\n",
    "os.environ[\"WANDB_SILENT\"] = \"true\"\n",
    "os.environ[\"WANDB_API_KEY\"] = secret_value_0"
   ]
  },
  {
   "cell_type": "code",
   "execution_count": null,
   "id": "39597dc9",
   "metadata": {
    "execution": {
     "iopub.execute_input": "2022-02-24T04:39:47.439503Z",
     "iopub.status.busy": "2022-02-24T04:39:47.439237Z",
     "iopub.status.idle": "2022-02-24T04:39:59.133332Z",
     "shell.execute_reply": "2022-02-24T04:39:59.132443Z",
     "shell.execute_reply.started": "2022-02-24T04:39:47.439462Z"
    },
    "papermill": {
     "duration": 0.034665,
     "end_time": "2022-02-24T04:49:00.945546",
     "exception": false,
     "start_time": "2022-02-24T04:49:00.910881",
     "status": "completed"
    },
    "tags": []
   },
   "outputs": [],
   "source": [
    "\n",
    "\n"
   ]
  },
  {
   "cell_type": "markdown",
   "id": "1ca6df6d",
   "metadata": {
    "papermill": {
     "duration": 0.036452,
     "end_time": "2022-02-24T04:49:01.017434",
     "exception": false,
     "start_time": "2022-02-24T04:49:00.980982",
     "status": "completed"
    },
    "tags": []
   },
   "source": [
    "# 重写生成训练参数"
   ]
  },
  {
   "cell_type": "code",
   "execution_count": 7,
   "id": "8836ca1d",
   "metadata": {
    "execution": {
     "iopub.execute_input": "2022-02-24T04:49:01.094646Z",
     "iopub.status.busy": "2022-02-24T04:49:01.093805Z",
     "iopub.status.idle": "2022-02-24T04:49:01.097379Z",
     "shell.execute_reply": "2022-02-24T04:49:01.098009Z",
     "shell.execute_reply.started": "2022-02-24T04:39:59.135151Z"
    },
    "papermill": {
     "duration": 0.045961,
     "end_time": "2022-02-24T04:49:01.098196",
     "exception": false,
     "start_time": "2022-02-24T04:49:01.052235",
     "status": "completed"
    },
    "tags": []
   },
   "outputs": [
    {
     "name": "stdout",
     "output_type": "stream",
     "text": [
      "Writing my_config_test_cuda_16g.yaml\n"
     ]
    }
   ],
   "source": [
    "%%writefile my_config_test_cuda_16g.yaml\n",
    "\n",
    "seed_everything: 288\n",
    "trainer:\n",
    "  logger:\n",
    "  - class_path: pytorch_lightning.loggers.WandbLogger\n",
    "    init_args:\n",
    "      log_model: false\n",
    "      offline: false\n",
    "      prefix: ''\n",
    "      project: \"litGPT\"\n",
    "  checkpoint_callback: true\n",
    "  callbacks:\n",
    "  - class_path: pytorch_lightning.callbacks.EarlyStopping\n",
    "    init_args:\n",
    "      check_finite: true\n",
    "      check_on_train_epoch_end: false\n",
    "      min_delta: 0.0\n",
    "      mode: min\n",
    "      monitor: val_loss\n",
    "      patience: 100\n",
    "      strict: true\n",
    "      verbose: true\n",
    "  - class_path: pytorch_lightning.callbacks.LearningRateMonitor\n",
    "    init_args:\n",
    "      log_momentum: false\n",
    "      logging_interval: step\n",
    "  - class_path: pytorch_lightning.callbacks.ModelCheckpoint\n",
    "    init_args:\n",
    "      auto_insert_metric_name: true\n",
    "      filename: '{epoch}-{val_loss:.2f}-{val_acc:.2f}'\n",
    "      mode: min\n",
    "      monitor: val_loss\n",
    "      save_last: true\n",
    "      save_top_k: 2\n",
    "      save_weights_only: false\n",
    "      verbose: true\n",
    "  default_root_dir: null\n",
    "  gradient_clip_val: 0.0\n",
    "  gradient_clip_algorithm: norm\n",
    "  process_position: 0\n",
    "  num_nodes: 1\n",
    "  num_processes: 1\n",
    "  devices: null\n",
    "  gpus: 1\n",
    "  auto_select_gpus: false\n",
    "  tpu_cores: null\n",
    "  ipus: null\n",
    "  log_gpu_memory: null\n",
    "  progress_bar_refresh_rate: null\n",
    "  overfit_batches: 0.0\n",
    "  track_grad_norm: -1\n",
    "  check_val_every_n_epoch: 1\n",
    "  fast_dev_run: false\n",
    "  accumulate_grad_batches: 1\n",
    "  max_epochs: 10\n",
    "  min_epochs: null\n",
    "  max_steps: null\n",
    "  min_steps: null\n",
    "  max_time: null\n",
    "  limit_train_batches: 1000\n",
    "  limit_val_batches: 200\n",
    "  limit_test_batches: 200\n",
    "  limit_predict_batches: 1.0\n",
    "  val_check_interval: 1.0\n",
    "  flush_logs_every_n_steps: 100\n",
    "  log_every_n_steps: 50\n",
    "  accelerator: null\n",
    "  sync_batchnorm: false\n",
    "  precision: 16\n",
    "  weights_summary: top\n",
    "  weights_save_path: null\n",
    "  num_sanity_val_steps: 2\n",
    "  truncated_bptt_steps: null\n",
    "  resume_from_checkpoint: null\n",
    "  profiler: null\n",
    "  benchmark: false\n",
    "  deterministic: false\n",
    "  reload_dataloaders_every_n_epochs: 0\n",
    "  reload_dataloaders_every_epoch: false\n",
    "  auto_lr_find: false\n",
    "  replace_sampler_ddp: true\n",
    "  terminate_on_nan: false\n",
    "  auto_scale_batch_size: false\n",
    "  prepare_data_per_node: true\n",
    "  plugins: null\n",
    "  amp_backend: native\n",
    "  amp_level: O2\n",
    "  distributed_backend: null\n",
    "  move_metrics_to_cpu: false\n",
    "  multiple_trainloader_mode: max_size_cycle\n",
    "  stochastic_weight_avg: false\n",
    "model:\n",
    "  dim: 128\n",
    "  depth: 6\n",
    "  max_seq_len: 512\n",
    "  lsh_dropout: 0.1\n",
    "  optimizer_name: AdamW\n",
    "  learning_rate: 0.0001\n",
    "  full_attn_thres: 128\n",
    "  from_pretrained: bert-base-chinese\n",
    "  batch_size: 64\n",
    "  trainfile: ./data/train.pkt\n",
    "  valfile: ./data/val.pkt\n",
    "  testfile: ./data/test.pkt\n"
   ]
  },
  {
   "cell_type": "markdown",
   "id": "1d2ece01",
   "metadata": {
    "papermill": {
     "duration": 0.035308,
     "end_time": "2022-02-24T04:49:01.169710",
     "exception": false,
     "start_time": "2022-02-24T04:49:01.134402",
     "status": "completed"
    },
    "tags": []
   },
   "source": [
    "# 开始训练"
   ]
  },
  {
   "cell_type": "code",
   "execution_count": 8,
   "id": "964d3191",
   "metadata": {
    "execution": {
     "iopub.execute_input": "2022-02-24T04:49:01.247721Z",
     "iopub.status.busy": "2022-02-24T04:49:01.244933Z",
     "iopub.status.idle": "2022-02-24T04:54:41.054702Z",
     "shell.execute_reply": "2022-02-24T04:54:41.054221Z"
    },
    "papermill": {
     "duration": 339.850002,
     "end_time": "2022-02-24T04:54:41.054840",
     "exception": false,
     "start_time": "2022-02-24T04:49:01.204838",
     "status": "completed"
    },
    "tags": []
   },
   "outputs": [
    {
     "name": "stdout",
     "output_type": "stream",
     "text": [
      "\"batch_size\":      64\r\n",
      "\"depth\":           6\r\n",
      "\"dim\":             128\r\n",
      "\"from_pretrained\": bert-base-chinese\r\n",
      "\"full_attn_thres\": 128\r\n",
      "\"learning_rate\":   0.0001\r\n",
      "\"lsh_dropout\":     0.1\r\n",
      "\"max_seq_len\":     512\r\n",
      "\"optimizer_name\":  AdamW\r\n",
      "\"testfile\":        ./data/test.pkt\r\n",
      "\"trainfile\":       ./data/train.pkt\r\n",
      "\"valfile\":         ./data/val.pkt\r\n",
      "2022-02-24 04:49:15.548045: I tensorflow/stream_executor/platform/default/dso_loader.cc:49] Successfully opened dynamic library libcudart.so.11.0\r\n",
      "\r\n",
      "\r\n",
      "Epoch 0:   0%|                                 | 0/17 [00:00<00:00, 2516.08it/s]\r\n",
      "CondaEnvException: Unable to determine environment\r\n",
      "\r\n",
      "Please re-run this command with one of the following options:\r\n",
      "\r\n",
      "* Provide an environment name via --name or -n\r\n",
      "* Re-run this command inside an activated conda environment.\r\n",
      "\r\n",
      "\r\n",
      "\r\n",
      "\r\n",
      "\r\n",
      "\r\n",
      "\r\n",
      "\r\n",
      "\r\n",
      "\r\n",
      "\r\n",
      "\r\n",
      "\r\n",
      "\r\n",
      "\r\n",
      "\r\n",
      "\r\n",
      "\r\n",
      "\r\n",
      "\r\n",
      "\r\n",
      "\r\n",
      "\r\n",
      "\r\n",
      "\r\n",
      "\r\n",
      "\r\n",
      "\r\n",
      "\r\n",
      "\r\n",
      "\r\n",
      "\r\n",
      "\r\n",
      "\r\n",
      "\r\n",
      "\r\n",
      "\r\n",
      "\r\n",
      "\r\n",
      "\r\n",
      "\r\n",
      "\r\n",
      "\r\n",
      "\r\n",
      "\r\n",
      "\r\n",
      "\r\n",
      "\r\n",
      "\r\n",
      "\r\n",
      "\r\n",
      "\r\n",
      "\r\n",
      "\r\n",
      "\r\n",
      "\r\n",
      "\r\n",
      "\r\n",
      "\r\n",
      "\r\n",
      "\r\n",
      "\r\n"
     ]
    }
   ],
   "source": [
    "!python trainer.py --config my_config_test_cuda_16g.yaml"
   ]
  }
 ],
 "metadata": {
  "kernelspec": {
   "display_name": "Python 3",
   "language": "python",
   "name": "python3"
  },
  "language_info": {
   "codemirror_mode": {
    "name": "ipython",
    "version": 3
   },
   "file_extension": ".py",
   "mimetype": "text/x-python",
   "name": "python",
   "nbconvert_exporter": "python",
   "pygments_lexer": "ipython3",
   "version": "3.7.10"
  },
  "papermill": {
   "default_parameters": {},
   "duration": 424.242687,
   "end_time": "2022-02-24T04:54:41.551076",
   "environment_variables": {},
   "exception": null,
   "input_path": "__notebook__.ipynb",
   "output_path": "__notebook__.ipynb",
   "parameters": {},
   "start_time": "2022-02-24T04:47:37.308389",
   "version": "2.3.3"
  }
 },
 "nbformat": 4,
 "nbformat_minor": 5
}
